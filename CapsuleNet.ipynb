{
 "cells": [
  {
   "cell_type": "code",
   "execution_count": 1,
   "metadata": {
    "collapsed": true
   },
   "outputs": [],
   "source": [
    "import random\n",
    "\n",
    "import torchvision.datasets as datasets\n",
    "import torchvision.transforms as transforms\n",
    "\n",
    "import torch\n",
    "import torch.nn as nn\n",
    "import torch.nn.functional as F\n",
    "import torch.optim as optim\n",
    "import torch.utils.data as data\n",
    "from torch.autograd import Variable\n",
    "\n",
    "import numpy as np\n",
    "import matplotlib.pyplot as plt\n",
    "\n",
    "%matplotlib inline"
   ]
  },
  {
   "cell_type": "code",
   "execution_count": 2,
   "metadata": {
    "collapsed": true
   },
   "outputs": [],
   "source": [
    "root = '/home/wilsonyan/data/mnist'"
   ]
  },
  {
   "cell_type": "code",
   "execution_count": 3,
   "metadata": {
    "collapsed": true
   },
   "outputs": [],
   "source": [
    "batch_size = 32"
   ]
  },
  {
   "cell_type": "code",
   "execution_count": 4,
   "metadata": {
    "collapsed": true
   },
   "outputs": [],
   "source": [
    "transform = transforms.Compose([\n",
    "    transforms.ToTensor(),\n",
    "    transforms.Normalize((0.1307,), (0.3081,))\n",
    "])\n",
    "\n",
    "dset_train = datasets.MNIST(root, train=True, download=True, transform=transform)\n",
    "dset_test = datasets.MNIST(root, train=False, download=True, transform=transform)\n",
    "\n",
    "loader_train = data.DataLoader(dset_train, batch_size=batch_size, shuffle=True)\n",
    "loader_test = data.DataLoader(dset_test, batch_size=batch_size, shuffle=True)"
   ]
  },
  {
   "cell_type": "code",
   "execution_count": 5,
   "metadata": {
    "collapsed": true
   },
   "outputs": [],
   "source": [
    "def squash(x, dim=-1):\n",
    "    norm_squared = torch.sum(x ** 2, dim, keepdim=True)\n",
    "    x = norm_squared / (1 + norm_squared) * x / torch.sqrt(norm_squared)\n",
    "    return x"
   ]
  },
  {
   "cell_type": "code",
   "execution_count": 6,
   "metadata": {
    "collapsed": true
   },
   "outputs": [],
   "source": [
    "def margin_loss(out, y):\n",
    "    pred = torch.sqrt((out ** 2).sum(-1))\n",
    "    loss = y * F.relu(0.9 - pred) ** 2 + 0.5 * (1 - y) * F.relu(pred - 0.1) ** 2\n",
    "    return loss.sum()"
   ]
  },
  {
   "cell_type": "code",
   "execution_count": 7,
   "metadata": {
    "collapsed": true
   },
   "outputs": [],
   "source": [
    "def mse_loss(out, y):\n",
    "    return torch.sum((out - y) ** 2) / batch_size"
   ]
  },
  {
   "cell_type": "code",
   "execution_count": 8,
   "metadata": {
    "collapsed": true
   },
   "outputs": [],
   "source": [
    "def softmax(input, dim=1):\n",
    "    input_size = input.size()\n",
    "    \n",
    "    trans_input = input.transpose(dim, len(input_size)-1)\n",
    "    trans_size = trans_input.size()\n",
    "\n",
    "    input_2d = trans_input.contiguous().view(-1, trans_size[-1])\n",
    "    \n",
    "    soft_max_2d = F.softmax(input_2d)\n",
    "    \n",
    "    soft_max_nd = soft_max_2d.view(*trans_size)\n",
    "    return soft_max_nd.transpose(dim, len(input_size)-1)"
   ]
  },
  {
   "cell_type": "code",
   "execution_count": 9,
   "metadata": {
    "collapsed": true
   },
   "outputs": [],
   "source": [
    "class PrimaryCaps(nn.Module):\n",
    "    def __init__(self, n_dim):\n",
    "        super(PrimaryCaps, self).__init__()\n",
    "        self.n_dim = n_dim\n",
    "        self.conv = nn.Conv2d(256, 32 * 8, 9, stride=2)\n",
    "    \n",
    "    def forward(self, x):\n",
    "        x = self.conv(x)\n",
    "        x = x.view(x.size()[0], -1, self.n_dim)\n",
    "        x = squash(x)\n",
    "        return x"
   ]
  },
  {
   "cell_type": "code",
   "execution_count": 10,
   "metadata": {
    "collapsed": true
   },
   "outputs": [],
   "source": [
    "class DigitCaps(nn.Module):\n",
    "    def __init__(self, n_dim, prev_dim, n_iter):\n",
    "        super(DigitCaps, self).__init__()\n",
    "        self.n_dim = n_dim\n",
    "        self.prev_dim = prev_dim\n",
    "        self.n_iter = n_iter\n",
    "        self.weights = nn.Parameter(torch.randn(10, 6 * 6 * 32, prev_dim, n_dim))\n",
    "    \n",
    "    def forward(self, x):\n",
    "        x = x.unsqueeze(0).unsqueeze(3)\n",
    "        u_hat = torch.matmul(x, self.weights.unsqueeze(1))\n",
    "        \n",
    "        b = Variable(torch.zeros(*u_hat.size()))\n",
    "        for i in range(self.n_iter):\n",
    "            \n",
    "            c = softmax(b, dim=2)\n",
    "            s = (u_hat * c).sum(2, keepdim=True)\n",
    "            v = squash(s)\n",
    "            \n",
    "            if i < self.n_iter - 1:\n",
    "                b = b + (u_hat * v).sum(-1, keepdim=True)\n",
    "        v = v.squeeze(2).squeeze(2).permute(1, 0, 2).contiguous()\n",
    "        return v"
   ]
  },
  {
   "cell_type": "code",
   "execution_count": 11,
   "metadata": {
    "collapsed": true
   },
   "outputs": [],
   "source": [
    "class CapsuleNet(nn.Module):\n",
    "    def __init__(self):\n",
    "        super(CapsuleNet, self).__init__()\n",
    "        self.conv = nn.Conv2d(1, 256, 9)\n",
    "        self.primary_caps = PrimaryCaps(8)\n",
    "        self.digit_caps = DigitCaps(16, 8, 3)\n",
    "        self.fc1 = nn.Linear(160, 512)\n",
    "        self.fc2 = nn.Linear(512, 1024)\n",
    "        self.fc3 = nn.Linear(1024, 784)\n",
    "        \n",
    "    def forward(self, x, y=None):\n",
    "        x = F.relu(self.conv(x))\n",
    "        x = self.primary_caps(x)\n",
    "        out = self.digit_caps(x)\n",
    "        \n",
    "        if not y:\n",
    "            probs = torch.sqrt((out ** 2).sum(-1))\n",
    "            _, highest_prob = torch.max(probs, 1)\n",
    "            mask = Variable(torch.eye(10)).index_select(0, highest_prob)\n",
    "        else:\n",
    "            mask = y\n",
    "        \n",
    "        x = out * mask.unsqueeze(-1)\n",
    "        x = x.view(x.size(0), -1)\n",
    "        x = F.relu(self.fc1(x))\n",
    "        x = F.relu(self.fc2(x))\n",
    "        x = F.sigmoid(self.fc3(x))\n",
    "        reconstruction = x.view(x.size(0), 1, 28, 28)\n",
    "        return out, reconstruction"
   ]
  },
  {
   "cell_type": "code",
   "execution_count": 12,
   "metadata": {
    "collapsed": true
   },
   "outputs": [],
   "source": [
    "def train(model, optimizer, loader, num_epochs=10, show_every=20):\n",
    "    criterion = nn.CrossEntropyLoss()\n",
    "    for epoch in range(num_epochs):\n",
    "        print('Epoch %s' % epoch)\n",
    "        print('=' * 10)\n",
    "        losses_total, losses_margin, losses_rec = [], [], []\n",
    "        for i, (x, y) in enumerate(iter(loader)):\n",
    "            y_one_hot = torch.FloatTensor(y.size()[0], 10)\n",
    "            y_one_hot.zero_()\n",
    "            y_one_hot.scatter_(1, y.unsqueeze(1), 1)\n",
    "            x, y_one_hot = Variable(x), Variable(y_one_hot)\n",
    "            out, reconstruction = model(x)\n",
    "                        \n",
    "            loss_margin = margin_loss(out, y_one_hot)\n",
    "            loss_rec = 0.0005 * mse_loss(x, reconstruction)\n",
    "            loss = loss_margin + loss_rec\n",
    "                        \n",
    "            optimizer.zero_grad()\n",
    "            loss.backward()\n",
    "            optimizer.step()\n",
    "            \n",
    "            losses_total.append(loss.data[0])\n",
    "            losses_margin.append(loss_margin.data[0])\n",
    "            losses_rec.append(loss_rec.data[0])\n",
    "            if i % show_every == 0:\n",
    "                mean_margin = np.mean(losses_margin[-show_every:])\n",
    "                mean_rec = np.mean(losses_rec[-show_every:])\n",
    "                mean_total = np.mean(losses_total[-show_every:])\n",
    "                print('margin: %s, rec: %s, total: %s' % (mean_margin, mean_rec, mean_total))\n",
    "            \n",
    "        print('Mean Loss: %s' % np.mean(losses_total))\n",
    "    return model"
   ]
  },
  {
   "cell_type": "code",
   "execution_count": 13,
   "metadata": {},
   "outputs": [],
   "source": [
    "model = CapsuleNet()\n",
    "optimizer = optim.Adam(model.parameters())"
   ]
  },
  {
   "cell_type": "code",
   "execution_count": 14,
   "metadata": {},
   "outputs": [
    {
     "name": "stdout",
     "output_type": "stream",
     "text": [
      "Parameters: 8215568\n"
     ]
    }
   ],
   "source": [
    "print('Parameters: %s' % sum(param.numel() for param in model.parameters()))"
   ]
  },
  {
   "cell_type": "code",
   "execution_count": 15,
   "metadata": {
    "scrolled": true
   },
   "outputs": [
    {
     "name": "stdout",
     "output_type": "stream",
     "text": [
      "Epoch 0\n",
      "==========\n",
      "margin: 25.7740592957, rec: 0.473934441805, total: 26.2479934692\n",
      "margin: 5.71312504292, rec: 0.332280376554, total: 6.0454054141\n",
      "margin: 2.0734318316, rec: 0.285575132072, total: 2.35900695682\n",
      "margin: 1.36861261517, rec: 0.277547649741, total: 1.6461602664\n",
      "margin: 1.18666975006, rec: 0.275384377539, total: 1.46205413103\n",
      "margin: 0.84353517592, rec: 0.271671359688, total: 1.11520653129\n",
      "margin: 0.828418945298, rec: 0.269553336948, total: 1.09797228545\n",
      "margin: 0.812106618583, rec: 0.272488393784, total: 1.08459500879\n",
      "margin: 0.688119302392, rec: 0.270827197731, total: 0.958946501315\n",
      "margin: 0.682381867841, rec: 0.267214901447, total: 0.94959676832\n",
      "margin: 0.572886906005, rec: 0.268224481493, total: 0.841111387908\n",
      "margin: 0.660376459165, rec: 0.267955389768, total: 0.928331846595\n",
      "margin: 0.549158719704, rec: 0.267020315975, total: 0.816179033518\n",
      "margin: 0.637977510467, rec: 0.26841014713, total: 0.906387657523\n",
      "margin: 0.486984034143, rec: 0.266043851674, total: 0.753027888536\n",
      "margin: 0.571128772255, rec: 0.263354189992, total: 0.834482961297\n",
      "margin: 0.478853689246, rec: 0.264742471725, total: 0.743596157432\n",
      "margin: 0.418563173134, rec: 0.26200267747, total: 0.680565847158\n",
      "margin: 0.488627280202, rec: 0.264452778846, total: 0.753080058694\n"
     ]
    },
    {
     "ename": "NameError",
     "evalue": "name 'losses' is not defined",
     "output_type": "error",
     "traceback": [
      "\u001b[0;31m---------------------------------------------------------------------------\u001b[0m",
      "\u001b[0;31mNameError\u001b[0m                                 Traceback (most recent call last)",
      "\u001b[0;32m<ipython-input-15-ece6edc8cf26>\u001b[0m in \u001b[0;36m<module>\u001b[0;34m()\u001b[0m\n\u001b[0;32m----> 1\u001b[0;31m \u001b[0mmodel\u001b[0m \u001b[0;34m=\u001b[0m \u001b[0mtrain\u001b[0m\u001b[0;34m(\u001b[0m\u001b[0mmodel\u001b[0m\u001b[0;34m,\u001b[0m \u001b[0moptimizer\u001b[0m\u001b[0;34m,\u001b[0m \u001b[0mloader_train\u001b[0m\u001b[0;34m,\u001b[0m \u001b[0mnum_epochs\u001b[0m\u001b[0;34m=\u001b[0m\u001b[0;36m10\u001b[0m\u001b[0;34m,\u001b[0m \u001b[0mshow_every\u001b[0m\u001b[0;34m=\u001b[0m\u001b[0;36m100\u001b[0m\u001b[0;34m)\u001b[0m\u001b[0;34m\u001b[0m\u001b[0m\n\u001b[0m",
      "\u001b[0;32m<ipython-input-12-229bf8141f76>\u001b[0m in \u001b[0;36mtrain\u001b[0;34m(model, optimizer, loader, num_epochs, show_every)\u001b[0m\n\u001b[1;32m     29\u001b[0m                 \u001b[0mprint\u001b[0m\u001b[0;34m(\u001b[0m\u001b[0;34m'margin: %s, rec: %s, total: %s'\u001b[0m \u001b[0;34m%\u001b[0m \u001b[0;34m(\u001b[0m\u001b[0mmean_margin\u001b[0m\u001b[0;34m,\u001b[0m \u001b[0mmean_rec\u001b[0m\u001b[0;34m,\u001b[0m \u001b[0mmean_total\u001b[0m\u001b[0;34m)\u001b[0m\u001b[0;34m)\u001b[0m\u001b[0;34m\u001b[0m\u001b[0m\n\u001b[1;32m     30\u001b[0m \u001b[0;34m\u001b[0m\u001b[0m\n\u001b[0;32m---> 31\u001b[0;31m         \u001b[0mprint\u001b[0m\u001b[0;34m(\u001b[0m\u001b[0;34m'Mean Loss: %s'\u001b[0m \u001b[0;34m%\u001b[0m \u001b[0mnp\u001b[0m\u001b[0;34m.\u001b[0m\u001b[0mmean\u001b[0m\u001b[0;34m(\u001b[0m\u001b[0mlosses\u001b[0m\u001b[0;34m)\u001b[0m\u001b[0;34m)\u001b[0m\u001b[0;34m\u001b[0m\u001b[0m\n\u001b[0m\u001b[1;32m     32\u001b[0m     \u001b[0;32mreturn\u001b[0m \u001b[0mmodel\u001b[0m\u001b[0;34m\u001b[0m\u001b[0m\n",
      "\u001b[0;31mNameError\u001b[0m: name 'losses' is not defined"
     ]
    }
   ],
   "source": [
    "model = train(model, optimizer, loader_train, num_epochs=10, show_every=100)"
   ]
  },
  {
   "cell_type": "code",
   "execution_count": 24,
   "metadata": {},
   "outputs": [],
   "source": [
    "def predict(model, dset):    \n",
    "    x, y = random.choice(dset)\n",
    "    x = Variable(x.unsqueeze(0))\n",
    "    out, reconstruction = model(x)\n",
    "    prob = torch.sqrt((out ** 2).sum(-1)).squeeze(0)\n",
    "    _, y_pred = torch.max(prob, 0)\n",
    "    print('Predict: %s, Actual: %s' % (y_pred.data[0], y))\n",
    "        \n",
    "    fig, (ax1, ax2) = plt.subplots(1, 2)\n",
    "    actual = x.data.squeeze().numpy() * 0.8031 + 0.1307\n",
    "    ax1.imshow(actual, cmap='gray')\n",
    "    rec = reconstruction.squeeze().data.numpy() * 0.8031 + 0.1307\n",
    "    ax2.imshow(rec, cmap='gray')"
   ]
  },
  {
   "cell_type": "code",
   "execution_count": 42,
   "metadata": {},
   "outputs": [
    {
     "name": "stdout",
     "output_type": "stream",
     "text": [
      "Predict: 6, Actual: 6\n"
     ]
    },
    {
     "data": {
      "image/png": "[encoded data removed]",
      "text/plain": [
       "<matplotlib.figure.Figure at 0x7f2ab7f12630>"
      ]
     },
     "metadata": {},
     "output_type": "display_data"
    }
   ],
   "source": [
    "predict(model, dset_test)"
   ]
  },
  {
   "cell_type": "code",
   "execution_count": null,
   "metadata": {
    "scrolled": true
   },
   "outputs": [],
   "source": [
    "def test_set_accuracy():\n",
    "    correct = 0\n",
    "    for i, (x, y) in enumerate(iter(loader_test)):\n",
    "        x = Variable(x)\n",
    "        out, _ = model(x)\n",
    "        prob = torch.sqrt((out ** 2).sum(-1))\n",
    "        _, y_pred = torch.max(prob, 1)\n",
    "        correct += y_pred.data.eq(y).sum()\n",
    "    return correct / len(dset_test)"
   ]
  },
  {
   "cell_type": "code",
   "execution_count": null,
   "metadata": {},
   "outputs": [],
   "source": [
    "print('Accuracy: %s' % test_set_accuracy())"
   ]
  },
  {
   "cell_type": "code",
   "execution_count": null,
   "metadata": {
    "collapsed": true
   },
   "outputs": [],
   "source": []
  }
 ],
 "metadata": {
  "kernelspec": {
   "display_name": "Python 3",
   "language": "python",
   "name": "python3"
  },
  "language_info": {
   "codemirror_mode": {
    "name": "ipython",
    "version": 3
   },
   "file_extension": ".py",
   "mimetype": "text/x-python",
   "name": "python",
   "nbconvert_exporter": "python",
   "pygments_lexer": "ipython3",
   "version": "3.6.1"
  }
 },
 "nbformat": 4,
 "nbformat_minor": 2
}
